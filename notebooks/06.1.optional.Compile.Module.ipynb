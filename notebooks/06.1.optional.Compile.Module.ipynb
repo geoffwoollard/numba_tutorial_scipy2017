{
 "cells": [
  {
   "cell_type": "markdown",
   "metadata": {},
   "source": [
    "# Precompiling Numba modules"
   ]
  },
  {
   "cell_type": "markdown",
   "metadata": {},
   "source": [
    "One issue with Numba is that it can be hard to install.  With `conda` it's incredibly easy, but not everybody uses `conda` and trying to explain to users/collaborators why they're doing everything wrong is hard.  \n",
    "\n",
    "Tools like SWIG can compile C/C++ (or other) code at install time and make it available as a Python module if there's some serious numerical heavy-lifting required.  \n",
    "\n",
    "But if you have ever tried to use SWIG together with NumPy... suffice to say it's a less than ideal arrangement (please don't hurt me, @dabeaz)."
   ]
  },
  {
   "cell_type": "markdown",
   "metadata": {
    "collapsed": true
   },
   "source": [
    "## Ahead-of-Time compilation\n",
    "\n",
    "While Numba's main use is in JIT compiling, they do provide tools for doing AOT (ahead-of-time) compilation.  This pre-compiled module does not rely on Numba, only on NumPy.  (If you are working with collaborators who don't have NumPy installed, I can't help you)."
   ]
  },
  {
   "cell_type": "markdown",
   "metadata": {},
   "source": [
    "We need to import `numpy`, of course, and also `numba.pycc.CC`"
   ]
  },
  {
   "cell_type": "code",
   "execution_count": 1,
   "metadata": {},
   "outputs": [],
   "source": [
    "import numpy\n",
    "from math import sqrt\n",
    "from numba.pycc import CC"
   ]
  },
  {
   "cell_type": "markdown",
   "metadata": {},
   "source": [
    "Name the module `ppe` (I am not creative)"
   ]
  },
  {
   "cell_type": "code",
   "execution_count": 2,
   "metadata": {},
   "outputs": [],
   "source": [
    "cc = CC('ppe')\n",
    "cc.verbose = True"
   ]
  },
  {
   "cell_type": "code",
   "execution_count": 3,
   "metadata": {},
   "outputs": [],
   "source": [
    "@cc.export('pressure_poisson', \n",
    "           'f8[:,:](f8[:,:], f8[:,:], f8)')\n",
    "def pressure_poisson(p, b, l2_target):\n",
    "    I, J = b.shape\n",
    "\n",
    "    iter_diff = l2_target + 1\n",
    "\n",
    "    n = 0\n",
    "    while iter_diff > l2_target and n <= 500:\n",
    "        pn = p.copy()\n",
    "        for i in range(1, I - 1):\n",
    "            for j in range(1, J - 1):\n",
    "                p[i, j] = (.25 * (pn[i, j + 1] +\n",
    "                                  pn[i, j - 1] +\n",
    "                                  pn[i + 1, j] +\n",
    "                                  pn[i - 1, j]) -\n",
    "                                  b[i, j])\n",
    "\n",
    "        for i in range(I):\n",
    "            p[i, 0] = p[i, 1]\n",
    "            p[i, -1] = 0\n",
    "\n",
    "        for j in range(J):\n",
    "            p[0, j] = p[1, j]\n",
    "            p[-1, j] = p[-2, j]\n",
    "\n",
    "        if n % 10 == 0:\n",
    "            iter_diff = sqrt(numpy.sum((p - pn)**2)/numpy.sum(pn**2))\n",
    "\n",
    "        n += 1\n",
    "\n",
    "    return p\n"
   ]
  },
  {
   "cell_type": "markdown",
   "metadata": {},
   "source": [
    "**Note:** Each function in the module can be compiled with one type signature only.  You can specify multiple types, each with its own function name, e.g.\n",
    "\n",
    "```python\n",
    "@cc.export('pressure_poisson_single', \n",
    "           'f4[:,:](f4[:,:], f4[:,:], f4)')\n",
    "@cc.export('pressure_poisson_double', \n",
    "           'f8[:,:](f8[:,:], f8[:,:], f8)')\n",
    "@cc.export('pressure_poisson_quad', \n",
    "           'f16[:,:](f16[:,:], f16[:,:], f16)')\n",
    "def pressure_poisson(p, b, l2_target=1e-4):\n",
    "```"
   ]
  },
  {
   "cell_type": "code",
   "execution_count": 4,
   "metadata": {},
   "outputs": [
    {
     "name": "stdout",
     "output_type": "stream",
     "text": [
      "generating LLVM code for 'ppe' into /var/folders/bg/cb0cr7ls61352lhy50167r0c0000gn/T/pycc-build-ppe-bhhfeafu/ppe.cpython-36m-darwin.o\n",
      "C compiler: gcc -Wno-unused-result -Wsign-compare -Wunreachable-code -DNDEBUG -g -fwrapv -O3 -Wall -Wstrict-prototypes -I/Users/gw/software/miniconda2/envs/numbatutorial/include -arch x86_64 -I/Users/gw/software/miniconda2/envs/numbatutorial/include -arch x86_64\n",
      "\n",
      "creating /var/folders/bg/cb0cr7ls61352lhy50167r0c0000gn/T/pycc-build-ppe-bhhfeafu/Users\n",
      "creating /var/folders/bg/cb0cr7ls61352lhy50167r0c0000gn/T/pycc-build-ppe-bhhfeafu/Users/gw\n",
      "creating /var/folders/bg/cb0cr7ls61352lhy50167r0c0000gn/T/pycc-build-ppe-bhhfeafu/Users/gw/software\n",
      "creating /var/folders/bg/cb0cr7ls61352lhy50167r0c0000gn/T/pycc-build-ppe-bhhfeafu/Users/gw/software/miniconda2\n",
      "creating /var/folders/bg/cb0cr7ls61352lhy50167r0c0000gn/T/pycc-build-ppe-bhhfeafu/Users/gw/software/miniconda2/envs\n",
      "creating /var/folders/bg/cb0cr7ls61352lhy50167r0c0000gn/T/pycc-build-ppe-bhhfeafu/Users/gw/software/miniconda2/envs/numbatutorial\n",
      "creating /var/folders/bg/cb0cr7ls61352lhy50167r0c0000gn/T/pycc-build-ppe-bhhfeafu/Users/gw/software/miniconda2/envs/numbatutorial/lib\n",
      "creating /var/folders/bg/cb0cr7ls61352lhy50167r0c0000gn/T/pycc-build-ppe-bhhfeafu/Users/gw/software/miniconda2/envs/numbatutorial/lib/python3.6\n",
      "creating /var/folders/bg/cb0cr7ls61352lhy50167r0c0000gn/T/pycc-build-ppe-bhhfeafu/Users/gw/software/miniconda2/envs/numbatutorial/lib/python3.6/site-packages\n",
      "creating /var/folders/bg/cb0cr7ls61352lhy50167r0c0000gn/T/pycc-build-ppe-bhhfeafu/Users/gw/software/miniconda2/envs/numbatutorial/lib/python3.6/site-packages/numba\n",
      "creating /var/folders/bg/cb0cr7ls61352lhy50167r0c0000gn/T/pycc-build-ppe-bhhfeafu/Users/gw/software/miniconda2/envs/numbatutorial/lib/python3.6/site-packages/numba/pycc\n",
      "creating /var/folders/bg/cb0cr7ls61352lhy50167r0c0000gn/T/pycc-build-ppe-bhhfeafu/Users/gw/software/miniconda2/envs/numbatutorial/lib/python3.6/site-packages/numba/runtime\n",
      "compile options: '-DPYCC_MODULE_NAME=ppe -DPYCC_USE_NRT=1 -I/Users/gw/software/miniconda2/envs/numbatutorial/include/python3.6m -I/Users/gw/software/miniconda2/envs/numbatutorial/lib/python3.6/site-packages/numpy/core/include -c'\n",
      "gcc: /Users/gw/software/miniconda2/envs/numbatutorial/lib/python3.6/site-packages/numba/pycc/modulemixin.c\n",
      "gcc: /Users/gw/software/miniconda2/envs/numbatutorial/lib/python3.6/site-packages/numba/pycc/../_math_c99.c\n",
      "/Users/gw/software/miniconda2/envs/numbatutorial/lib/python3.6/site-packages/numba/pycc/../_math_c99.c:26:21: warning: unused variable 'zero' [-Wunused-const-variable]\n",
      "static const double zero = 0.0;\n",
      "                    ^\n",
      "1 warning generated.\n",
      "gcc: /Users/gw/software/miniconda2/envs/numbatutorial/lib/python3.6/site-packages/numba/pycc/../runtime/nrt.c\n",
      "gcc -bundle -undefined dynamic_lookup -L/Users/gw/software/miniconda2/envs/numbatutorial/lib -arch x86_64 -L/Users/gw/software/miniconda2/envs/numbatutorial/lib -arch x86_64 -arch x86_64 /var/folders/bg/cb0cr7ls61352lhy50167r0c0000gn/T/pycc-build-ppe-bhhfeafu/ppe.cpython-36m-darwin.o /var/folders/bg/cb0cr7ls61352lhy50167r0c0000gn/T/pycc-build-ppe-bhhfeafu/Users/gw/software/miniconda2/envs/numbatutorial/lib/python3.6/site-packages/numba/pycc/modulemixin.o /var/folders/bg/cb0cr7ls61352lhy50167r0c0000gn/T/pycc-build-ppe-bhhfeafu/Users/gw/software/miniconda2/envs/numbatutorial/lib/python3.6/site-packages/numba/_math_c99.o /var/folders/bg/cb0cr7ls61352lhy50167r0c0000gn/T/pycc-build-ppe-bhhfeafu/Users/gw/software/miniconda2/envs/numbatutorial/lib/python3.6/site-packages/numba/runtime/nrt.o -L/Users/gw/software/miniconda2/envs/numbatutorial/lib/python3.6/site-packages/numpy/core/lib -lnpymath -o ppe.cpython-36m-darwin.so\n"
     ]
    }
   ],
   "source": [
    "cc.compile()"
   ]
  },
  {
   "cell_type": "code",
   "execution_count": 5,
   "metadata": {},
   "outputs": [
    {
     "name": "stdout",
     "output_type": "stream",
     "text": [
      "01.When.where.to.use.Numba.ipynb\r\n",
      "02.Intro.to.jit.ipynb\r\n",
      "03.How.Numba.Works.ipynb\r\n",
      "04.Direct.Summation.ipynb\r\n",
      "05.0.A.Breakneck.Introduction.to.CFD.ipynb\r\n",
      "05.1.Cavity_Flow.ipynb\r\n",
      "05.2.optional.Numba.v.Cython.v.Fortran.ipynb\r\n",
      "06.1.optional.Compile.Module.ipynb\r\n",
      "06.2.optional.Test.Compiled.Module.ipynb\r\n",
      "07.Make.your.own.ufuncs.ipynb\r\n",
      "08.Make.generalized.ufuncs.ipynb\r\n",
      "09.Tips.and.FAQ.ipynb\r\n",
      "10.optional.Numba.and.ipyparallel.ipynb\r\n",
      "11.optional.jit.parallel.ipynb\r\n",
      "IC.pickle\r\n",
      "bad_script.py\r\n",
      "\u001b[34mexercises\u001b[m\u001b[m/\r\n",
      "fail.html\r\n",
      "\u001b[34mfigures\u001b[m\u001b[m/\r\n",
      "loop.lifting.ipynb\r\n",
      "matrix.mult.benchmark.ipynb\r\n",
      "nopython_failure.py\r\n",
      "numpy_ans.pickle\r\n",
      "\u001b[31mppe.cpython-36m-darwin.so\u001b[m\u001b[m*\r\n",
      "\u001b[34msnippets\u001b[m\u001b[m/\r\n",
      "timings.txt\r\n"
     ]
    }
   ],
   "source": [
    "%ls"
   ]
  }
 ],
 "metadata": {
  "kernelspec": {
   "display_name": "Python 3",
   "language": "python",
   "name": "python3"
  },
  "language_info": {
   "codemirror_mode": {
    "name": "ipython",
    "version": 3
   },
   "file_extension": ".py",
   "mimetype": "text/x-python",
   "name": "python",
   "nbconvert_exporter": "python",
   "pygments_lexer": "ipython3",
   "version": "3.6.3"
  }
 },
 "nbformat": 4,
 "nbformat_minor": 1
}
