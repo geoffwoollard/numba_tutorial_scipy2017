{
 "cells": [
  {
   "cell_type": "markdown",
   "metadata": {},
   "source": [
    "# Benchmarks on matrix multiplication"
   ]
  },
  {
   "cell_type": "markdown",
   "metadata": {},
   "source": [
    "Matrix multiplication can be defined as: ${A*B}_{ik} = a_i*b_k$"
   ]
  },
  {
   "cell_type": "markdown",
   "metadata": {},
   "source": [
    "where $A$ is a $i \\times j$ matrix"
   ]
  },
  {
   "cell_type": "markdown",
   "metadata": {},
   "source": [
    "$B$ is a $j \\times k$ matrix"
   ]
  },
  {
   "cell_type": "markdown",
   "metadata": {},
   "source": [
    "and $a_i$ is the $i^{th}$ row vector of $A$"
   ]
  },
  {
   "cell_type": "markdown",
   "metadata": {},
   "source": [
    "and $b_i$ is the $k^{th}$ column vector of $B$"
   ]
  },
  {
   "cell_type": "code",
   "execution_count": null,
   "metadata": {},
   "outputs": [],
   "source": [
    "We can write a matrix multiplication function using this definition"
   ]
  },
  {
   "cell_type": "code",
   "execution_count": 2,
   "metadata": {},
   "outputs": [],
   "source": [
    "import numpy as np"
   ]
  },
  {
   "cell_type": "code",
   "execution_count": 4,
   "metadata": {},
   "outputs": [],
   "source": [
    "def matrix_mult(a,b):\n",
    "    if a.shape[1] == b.shape[0]:\n",
    "        I,J = a.shape\n",
    "        J,K = b.shape\n",
    "        c=np.zeros(I*K).reshape(I,K)\n",
    "        for i in range(I):\n",
    "            ai=a[i,:]\n",
    "            for k in range(K):\n",
    "                bk=b[:,k]\n",
    "                c[i,k] = (ai*bk).sum() # numpy step\n",
    "    else:\n",
    "        print('a and b must have compatible shapes')\n",
    "    return(c)"
   ]
  },
  {
   "cell_type": "markdown",
   "metadata": {},
   "source": [
    "We want to benchmark this against `np.dot` and a numba version"
   ]
  },
  {
   "cell_type": "code",
   "execution_count": 7,
   "metadata": {},
   "outputs": [],
   "source": [
    "from numba import njit, jit"
   ]
  },
  {
   "cell_type": "code",
   "execution_count": 8,
   "metadata": {},
   "outputs": [],
   "source": [
    "@njit(parallel=True)\n",
    "def matrix_mult_numba_jit(a,b):\n",
    "    if a.shape[1] == b.shape[0]:\n",
    "        I,J = a.shape\n",
    "        J,K = b.shape\n",
    "        c=np.zeros(I*K).reshape(I,K)\n",
    "        for i in range(I):\n",
    "            ai=a[i,:]\n",
    "            for k in range(K):\n",
    "                bk=b[:,k]\n",
    "                c[i,k] = (ai*bk).sum() # numpy step\n",
    "    else:\n",
    "        print('a and b must have compatible shapes')\n",
    "    return(c)"
   ]
  },
  {
   "cell_type": "code",
   "execution_count": 9,
   "metadata": {},
   "outputs": [],
   "source": [
    "@jit\n",
    "def matrix_mult_numba_njit(a,b):\n",
    "    if a.shape[1] == b.shape[0]:\n",
    "        I,J = a.shape\n",
    "        J,K = b.shape\n",
    "        c=np.zeros(I*K).reshape(I,K)\n",
    "        for i in range(I):\n",
    "            ai=a[i,:]\n",
    "            for k in range(K):\n",
    "                bk=b[:,k]\n",
    "                c[i,k] = (ai*bk).sum() # numpy step\n",
    "    else:\n",
    "        print('a and b must have compatible shapes')\n",
    "    return(c)"
   ]
  },
  {
   "cell_type": "code",
   "execution_count": 10,
   "metadata": {},
   "outputs": [],
   "source": [
    "i, j, k = 100,101,102\n",
    "a = np.arange(i*j).reshape(i,j)\n",
    "b = np.arange(j*k).reshape(j,k)"
   ]
  },
  {
   "cell_type": "code",
   "execution_count": 11,
   "metadata": {},
   "outputs": [
    {
     "name": "stdout",
     "output_type": "stream",
     "text": [
      "585 µs ± 3.75 µs per loop (mean ± std. dev. of 7 runs, 1000 loops each)\n"
     ]
    }
   ],
   "source": [
    "%timeit np.dot(a,b)"
   ]
  },
  {
   "cell_type": "code",
   "execution_count": 12,
   "metadata": {},
   "outputs": [
    {
     "name": "stdout",
     "output_type": "stream",
     "text": [
      "34.2 ms ± 322 µs per loop (mean ± std. dev. of 7 runs, 10 loops each)\n"
     ]
    }
   ],
   "source": [
    "%timeit matrix_mult(a,b)"
   ]
  },
  {
   "cell_type": "code",
   "execution_count": 13,
   "metadata": {},
   "outputs": [
    {
     "name": "stdout",
     "output_type": "stream",
     "text": [
      "291 ms ± 8.54 ms per loop (mean ± std. dev. of 7 runs, 1 loop each)\n"
     ]
    }
   ],
   "source": [
    "%timeit matrix_mult_numba_jit(a,b)"
   ]
  },
  {
   "cell_type": "code",
   "execution_count": 14,
   "metadata": {},
   "outputs": [
    {
     "name": "stdout",
     "output_type": "stream",
     "text": [
      "2.13 ms ± 27.4 µs per loop (mean ± std. dev. of 7 runs, 1 loop each)\n"
     ]
    }
   ],
   "source": [
    "%timeit matrix_mult_numba_njit(a,b)"
   ]
  },
  {
   "cell_type": "markdown",
   "metadata": {},
   "source": [
    "### benchmark different sizes of matrices"
   ]
  },
  {
   "cell_type": "code",
   "execution_count": 34,
   "metadata": {},
   "outputs": [
    {
     "name": "stdout",
     "output_type": "stream",
     "text": [
      "CPU times: user 8min 43s, sys: 11min 12s, total: 19min 56s\n",
      "Wall time: 9min 47s\n"
     ]
    }
   ],
   "source": [
    "%%time\n",
    "d_list = []\n",
    "size_list = [10,100,1000]\n",
    "for i in size_list:\n",
    "    for j in size_list:\n",
    "        a = np.arange(i*j).reshape(i,j)\n",
    "        for k in size_list:\n",
    "            if i>=j and j>=k:\n",
    "                b = np.arange(j*k).reshape(j,k)\n",
    "                t_np = %timeit -oq np.dot(a,b)\n",
    "                t_plain = %timeit -oq matrix_mult(a,b)\n",
    "                t_numba_jit = %timeit -oq matrix_mult_numba_jit(a,b)\n",
    "                t_numba_njit = %timeit -oq matrix_mult_numba_njit(a,b)\n",
    "                d_list.append({'t_np':t_np.average,\n",
    "                               't_plain':t_plain.average,\n",
    "                               't_numba_jit':t_numba_jit.average,\n",
    "                               't_numba_njit':t_numba_njit.average,\n",
    "                               'i':i,\n",
    "                               'j':j,\n",
    "                               'k':k})"
   ]
  },
  {
   "cell_type": "code",
   "execution_count": 18,
   "metadata": {},
   "outputs": [],
   "source": [
    "import pandas as pd"
   ]
  },
  {
   "cell_type": "code",
   "execution_count": 51,
   "metadata": {},
   "outputs": [],
   "source": [
    "benchmark_df = pd.DataFrame(d_list)"
   ]
  },
  {
   "cell_type": "code",
   "execution_count": 61,
   "metadata": {},
   "outputs": [],
   "source": [
    "benchmark_df['ratio_np'] = benchmark_df['t_plain'] / benchmark_df['t_np']\n",
    "benchmark_df['ratio_numba_jit'] = benchmark_df['t_plain'] / benchmark_df['t_numba_jit']\n",
    "benchmark_df['ratio_numba_njit'] = benchmark_df['t_plain'] / benchmark_df['t_numba_njit']\n"
   ]
  },
  {
   "cell_type": "markdown",
   "metadata": {},
   "source": [
    "We can see that we get the largest speedups with `numpy`, while `jit` doesn't give any over plain python. We jave to use `njit(parallel=True)` to get some speedups"
   ]
  },
  {
   "cell_type": "code",
   "execution_count": 62,
   "metadata": {},
   "outputs": [
    {
     "data": {
      "text/html": [
       "<div>\n",
       "<style scoped>\n",
       "    .dataframe tbody tr th:only-of-type {\n",
       "        vertical-align: middle;\n",
       "    }\n",
       "\n",
       "    .dataframe tbody tr th {\n",
       "        vertical-align: top;\n",
       "    }\n",
       "\n",
       "    .dataframe thead th {\n",
       "        text-align: right;\n",
       "    }\n",
       "</style>\n",
       "<table border=\"1\" class=\"dataframe\">\n",
       "  <thead>\n",
       "    <tr style=\"text-align: right;\">\n",
       "      <th></th>\n",
       "      <th>i</th>\n",
       "      <th>j</th>\n",
       "      <th>k</th>\n",
       "      <th>t_np</th>\n",
       "      <th>t_numba_jit</th>\n",
       "      <th>t_plain</th>\n",
       "      <th>ratio_np</th>\n",
       "      <th>ratio_numba_jit</th>\n",
       "      <th>ratio_numba_jnit</th>\n",
       "      <th>t_numba_njit</th>\n",
       "      <th>ratio_numba_njit</th>\n",
       "    </tr>\n",
       "  </thead>\n",
       "  <tbody>\n",
       "    <tr>\n",
       "      <th>0</th>\n",
       "      <td>10</td>\n",
       "      <td>10</td>\n",
       "      <td>10</td>\n",
       "      <td>0.000002</td>\n",
       "      <td>0.002896</td>\n",
       "      <td>0.000351</td>\n",
       "      <td>172.573985</td>\n",
       "      <td>0.121252</td>\n",
       "      <td>24.338782</td>\n",
       "      <td>0.000014</td>\n",
       "      <td>24.338782</td>\n",
       "    </tr>\n",
       "    <tr>\n",
       "      <th>1</th>\n",
       "      <td>100</td>\n",
       "      <td>10</td>\n",
       "      <td>10</td>\n",
       "      <td>0.000011</td>\n",
       "      <td>0.030061</td>\n",
       "      <td>0.003535</td>\n",
       "      <td>308.795863</td>\n",
       "      <td>0.117588</td>\n",
       "      <td>26.232226</td>\n",
       "      <td>0.000135</td>\n",
       "      <td>26.232226</td>\n",
       "    </tr>\n",
       "    <tr>\n",
       "      <th>2</th>\n",
       "      <td>100</td>\n",
       "      <td>100</td>\n",
       "      <td>10</td>\n",
       "      <td>0.000058</td>\n",
       "      <td>0.028459</td>\n",
       "      <td>0.003716</td>\n",
       "      <td>64.034474</td>\n",
       "      <td>0.130574</td>\n",
       "      <td>16.084315</td>\n",
       "      <td>0.000231</td>\n",
       "      <td>16.084315</td>\n",
       "    </tr>\n",
       "    <tr>\n",
       "      <th>3</th>\n",
       "      <td>100</td>\n",
       "      <td>100</td>\n",
       "      <td>100</td>\n",
       "      <td>0.000569</td>\n",
       "      <td>0.291665</td>\n",
       "      <td>0.036374</td>\n",
       "      <td>63.954127</td>\n",
       "      <td>0.124711</td>\n",
       "      <td>15.594155</td>\n",
       "      <td>0.002333</td>\n",
       "      <td>15.594155</td>\n",
       "    </tr>\n",
       "    <tr>\n",
       "      <th>4</th>\n",
       "      <td>1000</td>\n",
       "      <td>10</td>\n",
       "      <td>10</td>\n",
       "      <td>0.000103</td>\n",
       "      <td>0.282053</td>\n",
       "      <td>0.034925</td>\n",
       "      <td>340.723281</td>\n",
       "      <td>0.123823</td>\n",
       "      <td>25.938937</td>\n",
       "      <td>0.001346</td>\n",
       "      <td>25.938937</td>\n",
       "    </tr>\n",
       "    <tr>\n",
       "      <th>5</th>\n",
       "      <td>1000</td>\n",
       "      <td>100</td>\n",
       "      <td>10</td>\n",
       "      <td>0.000572</td>\n",
       "      <td>0.279909</td>\n",
       "      <td>0.036643</td>\n",
       "      <td>64.020513</td>\n",
       "      <td>0.130911</td>\n",
       "      <td>15.675439</td>\n",
       "      <td>0.002338</td>\n",
       "      <td>15.675439</td>\n",
       "    </tr>\n",
       "    <tr>\n",
       "      <th>6</th>\n",
       "      <td>1000</td>\n",
       "      <td>100</td>\n",
       "      <td>100</td>\n",
       "      <td>0.005677</td>\n",
       "      <td>2.826907</td>\n",
       "      <td>0.361903</td>\n",
       "      <td>63.751701</td>\n",
       "      <td>0.128021</td>\n",
       "      <td>15.296839</td>\n",
       "      <td>0.023659</td>\n",
       "      <td>15.296839</td>\n",
       "    </tr>\n",
       "    <tr>\n",
       "      <th>7</th>\n",
       "      <td>1000</td>\n",
       "      <td>1000</td>\n",
       "      <td>10</td>\n",
       "      <td>0.008541</td>\n",
       "      <td>0.357186</td>\n",
       "      <td>0.067103</td>\n",
       "      <td>7.856758</td>\n",
       "      <td>0.187864</td>\n",
       "      <td>5.611985</td>\n",
       "      <td>0.011957</td>\n",
       "      <td>5.611985</td>\n",
       "    </tr>\n",
       "    <tr>\n",
       "      <th>8</th>\n",
       "      <td>1000</td>\n",
       "      <td>1000</td>\n",
       "      <td>100</td>\n",
       "      <td>0.099013</td>\n",
       "      <td>2.968083</td>\n",
       "      <td>0.627378</td>\n",
       "      <td>6.336345</td>\n",
       "      <td>0.211375</td>\n",
       "      <td>4.751782</td>\n",
       "      <td>0.132030</td>\n",
       "      <td>4.751782</td>\n",
       "    </tr>\n",
       "    <tr>\n",
       "      <th>9</th>\n",
       "      <td>1000</td>\n",
       "      <td>1000</td>\n",
       "      <td>1000</td>\n",
       "      <td>1.764958</td>\n",
       "      <td>30.809161</td>\n",
       "      <td>12.465579</td>\n",
       "      <td>7.062821</td>\n",
       "      <td>0.404606</td>\n",
       "      <td>5.065370</td>\n",
       "      <td>2.460941</td>\n",
       "      <td>5.065370</td>\n",
       "    </tr>\n",
       "  </tbody>\n",
       "</table>\n",
       "</div>"
      ],
      "text/plain": [
       "      i     j     k      t_np  t_numba_jit    t_plain    ratio_np  \\\n",
       "0    10    10    10  0.000002     0.002896   0.000351  172.573985   \n",
       "1   100    10    10  0.000011     0.030061   0.003535  308.795863   \n",
       "2   100   100    10  0.000058     0.028459   0.003716   64.034474   \n",
       "3   100   100   100  0.000569     0.291665   0.036374   63.954127   \n",
       "4  1000    10    10  0.000103     0.282053   0.034925  340.723281   \n",
       "5  1000   100    10  0.000572     0.279909   0.036643   64.020513   \n",
       "6  1000   100   100  0.005677     2.826907   0.361903   63.751701   \n",
       "7  1000  1000    10  0.008541     0.357186   0.067103    7.856758   \n",
       "8  1000  1000   100  0.099013     2.968083   0.627378    6.336345   \n",
       "9  1000  1000  1000  1.764958    30.809161  12.465579    7.062821   \n",
       "\n",
       "   ratio_numba_jit  ratio_numba_jnit  t_numba_njit  ratio_numba_njit  \n",
       "0         0.121252         24.338782      0.000014         24.338782  \n",
       "1         0.117588         26.232226      0.000135         26.232226  \n",
       "2         0.130574         16.084315      0.000231         16.084315  \n",
       "3         0.124711         15.594155      0.002333         15.594155  \n",
       "4         0.123823         25.938937      0.001346         25.938937  \n",
       "5         0.130911         15.675439      0.002338         15.675439  \n",
       "6         0.128021         15.296839      0.023659         15.296839  \n",
       "7         0.187864          5.611985      0.011957          5.611985  \n",
       "8         0.211375          4.751782      0.132030          4.751782  \n",
       "9         0.404606          5.065370      2.460941          5.065370  "
      ]
     },
     "execution_count": 62,
     "metadata": {},
     "output_type": "execute_result"
    }
   ],
   "source": [
    "benchmark_df"
   ]
  }
 ],
 "metadata": {
  "kernelspec": {
   "display_name": "Python 3",
   "language": "python",
   "name": "python3"
  },
  "language_info": {
   "codemirror_mode": {
    "name": "ipython",
    "version": 3
   },
   "file_extension": ".py",
   "mimetype": "text/x-python",
   "name": "python",
   "nbconvert_exporter": "python",
   "pygments_lexer": "ipython3",
   "version": "3.6.3"
  }
 },
 "nbformat": 4,
 "nbformat_minor": 2
}
